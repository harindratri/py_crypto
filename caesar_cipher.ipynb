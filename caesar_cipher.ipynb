{
 "cells": [
  {
   "cell_type": "markdown",
   "metadata": {},
   "source": [
    "#Cryptography with Python - Reverse Cipher\n",
    "Algorithm of Reverse Cipher\n",
    "The algorithm of reverse cipher holds the following features −\n",
    "\n",
    "Reverse Cipher uses a pattern of reversing the string of plain text to convert as cipher text.\n",
    "\n",
    "The process of encryption and decryption is same.\n",
    "\n",
    "To decrypt cipher text, the user simply needs to reverse the cipher text to get the plain text\n"
   ]
  },
  {
   "cell_type": "code",
   "execution_count": 4,
   "metadata": {},
   "outputs": [
    {
     "name": "stdout",
     "output_type": "stream",
     "text": [
      "The cipher text is : rehpic esrever nialpxe ot margorp si sihT\n"
     ]
    }
   ],
   "source": [
    "message='This is program to explain reverse cipher'\n",
    "translate =''\n",
    "i=len(message)-1\n",
    "while i>=0:\n",
    "    translate = translate+message[i]\n",
    "    i=i-1\n",
    "print(\"The cipher text is :\" , translate)"
   ]
  },
  {
   "cell_type": "markdown",
   "metadata": {},
   "source": [
    "Algorithm of Caesar Cipher\n",
    "The algorithm of Caesar cipher holds the following features −\n",
    "\n",
    "Caesar Cipher Technique is the simple and easy method of encryption technique.\n",
    "\n",
    "It is simple type of substitution cipher.\n",
    "\n",
    "Each letter of plain text is replaced by a letter with some fixed number of positions down with alphabet."
   ]
  },
  {
   "cell_type": "code",
   "execution_count": 25,
   "metadata": {},
   "outputs": [],
   "source": [
    "def encrypt(text,s):\n",
    "    result=''\n",
    "    #transverse the plain text\n",
    "    for i in range(len(text)):\n",
    "        char=text[i]\n",
    "        #encrypt uppercase characters in plain text\n",
    "        if(char.isupper()):\n",
    "            result +=chr((ord(char)+s-65)%26+65)\n",
    "            #Encrypt lowercase characters in plain text\n",
    "        else:\n",
    "            result +=chr((ord(char)+s-97)%26+97)\n",
    "    return result"
   ]
  },
  {
   "cell_type": "code",
   "execution_count": 26,
   "metadata": {},
   "outputs": [
    {
     "name": "stdout",
     "output_type": "stream",
     "text": [
      "NGXOTJXG\n"
     ]
    }
   ],
   "source": [
    "text='HARINDRA'\n",
    "s=6\n",
    "print(encrypt(text,s))"
   ]
  },
  {
   "cell_type": "code",
   "execution_count": 27,
   "metadata": {},
   "outputs": [
    {
     "data": {
      "text/plain": [
       "'G'"
      ]
     },
     "execution_count": 27,
     "metadata": {},
     "output_type": "execute_result"
    }
   ],
   "source": [
    "chr((ord('A')+6-65)%26+65)"
   ]
  },
  {
   "cell_type": "markdown",
   "metadata": {},
   "source": [
    "Hacking of Caesar Cipher Algorithm\n",
    "The cipher text can be hacked with various possibilities. One of such possibility is Brute Force Technique, which involves trying every possible decryption key. This technique does not demand much effort and is relatively simple for a hacker.\n",
    "\n",
    "The program implementation for hacking Caesar cipher algorithm is as follows −"
   ]
  },
  {
   "cell_type": "code",
   "execution_count": 28,
   "metadata": {},
   "outputs": [
    {
     "name": "stdout",
     "output_type": "stream",
     "text": [
      "Hacking key #0: NGXOTJXG\n",
      "Hacking key #1: MFWNSIWF\n",
      "Hacking key #2: LEVMRHVE\n",
      "Hacking key #3: KDULQGUD\n",
      "Hacking key #4: JCTKPFTC\n",
      "Hacking key #5: IBSJOESB\n",
      "Hacking key #6: HARINDRA\n",
      "Hacking key #7: GZQHMCQZ\n",
      "Hacking key #8: FYPGLBPY\n",
      "Hacking key #9: EXOFKAOX\n",
      "Hacking key #10: DWNEJZNW\n",
      "Hacking key #11: CVMDIYMV\n",
      "Hacking key #12: BULCHXLU\n",
      "Hacking key #13: ATKBGWKT\n",
      "Hacking key #14: ZSJAFVJS\n",
      "Hacking key #15: YRIZEUIR\n",
      "Hacking key #16: XQHYDTHQ\n",
      "Hacking key #17: WPGXCSGP\n",
      "Hacking key #18: VOFWBRFO\n",
      "Hacking key #19: UNEVAQEN\n",
      "Hacking key #20: TMDUZPDM\n",
      "Hacking key #21: SLCTYOCL\n",
      "Hacking key #22: RKBSXNBK\n",
      "Hacking key #23: QJARWMAJ\n",
      "Hacking key #24: PIZQVLZI\n",
      "Hacking key #25: OHYPUKYH\n"
     ]
    }
   ],
   "source": [
    "message = 'NGXOTJXG' #encrypted message\n",
    "LETTERS = 'ABCDEFGHIJKLMNOPQRSTUVWXYZ'\n",
    "for key in range(len(LETTERS)):\n",
    "    translated = ''\n",
    "    for symbol in message:\n",
    "        if symbol in LETTERS:\n",
    "            num = LETTERS.find(symbol)\n",
    "            num = num - key\n",
    "            if num < 0:\n",
    "                num = num + len(LETTERS)\n",
    "            translated = translated + LETTERS[num]\n",
    "        else:\n",
    "             translated = translated + symbol\n",
    "    print('Hacking key #%s: %s' % (key, translated))"
   ]
  },
  {
   "cell_type": "markdown",
   "metadata": {},
   "source": [
    "#Transposition Cipher\n",
    "Transposition Cipher is a cryptographic algorithm where the order of alphabets in the plaintext is rearranged to form a cipher text. In this process, the actual plain text alphabets are not included.\n"
   ]
  },
  {
   "cell_type": "code",
   "execution_count": 33,
   "metadata": {},
   "outputs": [],
   "source": [
    "def split_len(seq,length):\n",
    "    return [seq[i:i+length]for i in range(0,len(seq),length)]"
   ]
  },
  {
   "cell_type": "code",
   "execution_count": 35,
   "metadata": {},
   "outputs": [
    {
     "name": "stdout",
     "output_type": "stream",
     "text": [
      "LEHOL\n"
     ]
    }
   ],
   "source": [
    "def encode(key,plaintext):\n",
    "    order={\n",
    "        int(val): num for num, val in enumerate(key)\n",
    "    }\n",
    "    ciphertext=''\n",
    "    for index in sorted(order.keys()):\n",
    "        for part in split_len(plaintext, len(key)):\n",
    "            try:ciphertext += part[order[index]]\n",
    "            except IndexError:\n",
    "                    continue\n",
    "    return ciphertext\n",
    "print(encode('3214', 'HELLO'))\n",
    "        "
   ]
  },
  {
   "cell_type": "code",
   "execution_count": null,
   "metadata": {},
   "outputs": [],
   "source": []
  },
  {
   "cell_type": "code",
   "execution_count": null,
   "metadata": {},
   "outputs": [],
   "source": []
  }
 ],
 "metadata": {
  "kernelspec": {
   "display_name": "Python 2",
   "language": "python",
   "name": "python2"
  },
  "language_info": {
   "codemirror_mode": {
    "name": "ipython",
    "version": 2
   },
   "file_extension": ".py",
   "mimetype": "text/x-python",
   "name": "python",
   "nbconvert_exporter": "python",
   "pygments_lexer": "ipython2",
   "version": "2.7.16"
  }
 },
 "nbformat": 4,
 "nbformat_minor": 2
}
