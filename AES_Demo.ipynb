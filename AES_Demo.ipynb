{
 "cells": [
  {
   "cell_type": "code",
   "execution_count": 1,
   "metadata": {},
   "outputs": [],
   "source": [
    "from Crypto.Cipher import AES"
   ]
  },
  {
   "cell_type": "code",
   "execution_count": 13,
   "metadata": {},
   "outputs": [],
   "source": [
    "def append_space_padding(str,blocksize=128):\n",
    "    pad=blocksize-(len(str)%blocksize)\n",
    "    padding='a'*pad\n",
    "    return str+padding"
   ]
  },
  {
   "cell_type": "code",
   "execution_count": 14,
   "metadata": {},
   "outputs": [],
   "source": [
    "def remove_space_padding(str,blocksize=128):\n",
    "    pad_len=0\n",
    "    for char in str[::-1]:\n",
    "        if char=='a':\n",
    "            pad_len+=1\n",
    "        else:\n",
    "            break\n",
    "    str=str[:-pad_len]\n",
    "    return str"
   ]
  },
  {
   "cell_type": "code",
   "execution_count": 15,
   "metadata": {},
   "outputs": [],
   "source": [
    "def encrypt(plaintext,key):\n",
    "    AES_DEMO=AES.new(key,AES.MODE_ECB)\n",
    "    return AES_DEMO.encrypt(plaintext)"
   ]
  },
  {
   "cell_type": "code",
   "execution_count": 16,
   "metadata": {},
   "outputs": [],
   "source": [
    "def decrypt(ciphertext, key):\n",
    "    aes_plain = AES.new(key,AES.MODE_ECB)\n",
    "    return aes_plain.decrypt(ciphertext).decode('UTF-8')"
   ]
  },
  {
   "cell_type": "code",
   "execution_count": 17,
   "metadata": {},
   "outputs": [
    {
     "name": "stdout",
     "output_type": "stream",
     "text": [
      "b'j\\x16C^\\x9d\\xa9\\xe7\\x03w}\\xf3\\x05|\\xce~\\x84'\n"
     ]
    }
   ],
   "source": [
    "from Crypto import Random\n",
    "key=Random.new().read(16)\n",
    "print(key)"
   ]
  },
  {
   "cell_type": "code",
   "execution_count": 18,
   "metadata": {},
   "outputs": [
    {
     "name": "stdout",
     "output_type": "stream",
     "text": [
      "46\n",
      "This is the secreat massage we want to encryptaaaaaaaaaaaaaaaaaaaaaaaaaaaaaaaaaaaaaaaaaaaaaaaaaaaaaaaaaaaaaaaaaaaaaaaaaaaaaaaaaa\n"
     ]
    }
   ],
   "source": [
    "plaintext=\"This is the secreat massage we want to encrypt\"\n",
    "print(len(plaintext))\n",
    "plaintext = append_space_padding(plaintext)\n",
    "print(plaintext)"
   ]
  },
  {
   "cell_type": "code",
   "execution_count": 20,
   "metadata": {},
   "outputs": [
    {
     "name": "stdout",
     "output_type": "stream",
     "text": [
      "b\"\\x9a(\\xfc\\xa8n\\x98-\\xd6\\xb0NlO\\xb2\\xc3Q65\\xac\\x81\\xd4\\xf9\\xc7:\\x9eI*\\xbb\\xaf\\xe4\\xe9\\xe8\\xa6\\x8c\\xd0L\\xa7tg\\xb7\\xec\\x17K\\x83^2R\\xea\\x960Mt\\x85E\\x02_\\xa2\\x0eq\\xb9o'\\xf7\\x16\\x990Mt\\x85E\\x02_\\xa2\\x0eq\\xb9o'\\xf7\\x16\\x990Mt\\x85E\\x02_\\xa2\\x0eq\\xb9o'\\xf7\\x16\\x990Mt\\x85E\\x02_\\xa2\\x0eq\\xb9o'\\xf7\\x16\\x990Mt\\x85E\\x02_\\xa2\\x0eq\\xb9o'\\xf7\\x16\\x99\"\n"
     ]
    }
   ],
   "source": [
    "ciphertext=encrypt(plaintext,key)\n",
    "print(ciphertext)"
   ]
  },
  {
   "cell_type": "code",
   "execution_count": 21,
   "metadata": {},
   "outputs": [
    {
     "name": "stdout",
     "output_type": "stream",
     "text": [
      "This is the secreat massage we want to encryptaaaaaaaaaaaaaaaaaaaaaaaaaaaaaaaaaaaaaaaaaaaaaaaaaaaaaaaaaaaaaaaaaaaaaaaaaaaaaaaaaa\n"
     ]
    }
   ],
   "source": [
    "decrypted=decrypt(ciphertext,key)\n",
    "print(decrypted)"
   ]
  },
  {
   "cell_type": "code",
   "execution_count": null,
   "metadata": {},
   "outputs": [],
   "source": []
  }
 ],
 "metadata": {
  "kernelspec": {
   "display_name": "Python 2",
   "language": "python",
   "name": "python2"
  },
  "language_info": {
   "codemirror_mode": {
    "name": "ipython",
    "version": 2
   },
   "file_extension": ".py",
   "mimetype": "text/x-python",
   "name": "python",
   "nbconvert_exporter": "python",
   "pygments_lexer": "ipython2",
   "version": "2.7.16"
  }
 },
 "nbformat": 4,
 "nbformat_minor": 2
}
