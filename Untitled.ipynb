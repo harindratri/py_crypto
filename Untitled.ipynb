{
 "cells": [
  {
   "cell_type": "code",
   "execution_count": 1,
   "metadata": {},
   "outputs": [],
   "source": [
    "from tinyec.ec import SubGroup , Curve"
   ]
  },
  {
   "cell_type": "code",
   "execution_count": 2,
   "metadata": {},
   "outputs": [],
   "source": [
    "field = SubGroup(p=17,g=(15,13),n=18,h=1)"
   ]
  },
  {
   "cell_type": "code",
   "execution_count": 3,
   "metadata": {},
   "outputs": [],
   "source": [
    "curve=Curve(a=0,b=7,field=field,name='p1707')"
   ]
  },
  {
   "cell_type": "code",
   "execution_count": 9,
   "metadata": {},
   "outputs": [
    {
     "name": "stdout",
     "output_type": "stream",
     "text": [
      "Help on class Curve in module tinyec.ec:\n",
      "\n",
      "class Curve(__builtin__.object)\n",
      " |  Methods defined here:\n",
      " |  \n",
      " |  __eq__(self, other)\n",
      " |  \n",
      " |  __init__(self, a, b, field, name='undefined')\n",
      " |  \n",
      " |  __ne__(self, other)\n",
      " |  \n",
      " |  __str__(self)\n",
      " |  \n",
      " |  is_singular(self)\n",
      " |  \n",
      " |  on_curve(self, x, y)\n",
      " |  \n",
      " |  ----------------------------------------------------------------------\n",
      " |  Data descriptors defined here:\n",
      " |  \n",
      " |  __dict__\n",
      " |      dictionary for instance variables (if defined)\n",
      " |  \n",
      " |  __weakref__\n",
      " |      list of weak references to the object (if defined)\n",
      "\n"
     ]
    }
   ],
   "source": [
    "help(Curve)"
   ]
  },
  {
   "cell_type": "code",
   "execution_count": 10,
   "metadata": {},
   "outputs": [
    {
     "name": "stdout",
     "output_type": "stream",
     "text": [
      "Help on class SubGroup in module tinyec.ec:\n",
      "\n",
      "class SubGroup(__builtin__.object)\n",
      " |  Methods defined here:\n",
      " |  \n",
      " |  __eq__(self, other)\n",
      " |  \n",
      " |  __init__(self, p, g, n, h)\n",
      " |  \n",
      " |  __ne__(self, other)\n",
      " |  \n",
      " |  __repr__(self)\n",
      " |  \n",
      " |  __str__(self)\n",
      " |  \n",
      " |  ----------------------------------------------------------------------\n",
      " |  Data descriptors defined here:\n",
      " |  \n",
      " |  __dict__\n",
      " |      dictionary for instance variables (if defined)\n",
      " |  \n",
      " |  __weakref__\n",
      " |      list of weak references to the object (if defined)\n",
      "\n"
     ]
    }
   ],
   "source": [
    "help(SubGroup)"
   ]
  },
  {
   "cell_type": "code",
   "execution_count": 8,
   "metadata": {},
   "outputs": [
    {
     "name": "stdout",
     "output_type": "stream",
     "text": [
      "('f{k}*G=', (set([None]), set([None])))\n",
      "('f{k}*G=', (set([15]), set([13])))\n",
      "('f{k}*G=', (set([2]), set([10])))\n",
      "('f{k}*G=', (set([8]), set([3])))\n",
      "('f{k}*G=', (set([12]), set([1])))\n",
      "('f{k}*G=', (set([6]), set([6])))\n",
      "('f{k}*G=', (set([5]), set([8])))\n",
      "('f{k}*G=', (set([10]), set([15])))\n",
      "('f{k}*G=', (set([1]), set([12])))\n",
      "('f{k}*G=', (set([3]), set([0])))\n",
      "('f{k}*G=', (set([1]), set([5])))\n",
      "('f{k}*G=', (set([10]), set([2])))\n",
      "('f{k}*G=', (set([5]), set([9])))\n",
      "('f{k}*G=', (set([6]), set([11])))\n",
      "('f{k}*G=', (set([12]), set([16])))\n",
      "('f{k}*G=', (set([8]), set([14])))\n",
      "('f{k}*G=', (set([2]), set([7])))\n",
      "('f{k}*G=', (set([15]), set([4])))\n",
      "('f{k}*G=', (set([None]), set([None])))\n",
      "('f{k}*G=', (set([15]), set([13])))\n",
      "('f{k}*G=', (set([2]), set([10])))\n",
      "('f{k}*G=', (set([8]), set([3])))\n",
      "('f{k}*G=', (set([12]), set([1])))\n",
      "('f{k}*G=', (set([6]), set([6])))\n",
      "('f{k}*G=', (set([5]), set([8])))\n"
     ]
    }
   ],
   "source": [
    "for k in range(0,25):\n",
    "    p=k*curve.g\n",
    "    print(\"f{k}*G=\",({p.x},{p.y}))"
   ]
  },
  {
   "cell_type": "code",
   "execution_count": 12,
   "metadata": {},
   "outputs": [
    {
     "name": "stdout",
     "output_type": "stream",
     "text": [
      "('curve:', <tinyec.ec.Curve object at 0x000000000488D5F8>)\n"
     ]
    }
   ],
   "source": [
    "from tinyec import registry\n",
    "curve=registry.get_curve('secp192r1')\n",
    "print('curve:',curve)"
   ]
  },
  {
   "cell_type": "code",
   "execution_count": 15,
   "metadata": {},
   "outputs": [
    {
     "name": "stdout",
     "output_type": "stream",
     "text": [
      "('f{k}*G =', (set([None]), set([None])))\n",
      "('f{k}*G =', (set([602046282375688656758213480587526111916698976636884684818L]), set([174050332293622031404857552280219410364023488927386650641L])))\n",
      "('f{k}*G =', (set([5369744403678710563432458361254544170966096384586764429448L]), set([5429234379789071039750654906915254128254326554272718558123L])))\n",
      "('f{k}*G =', (set([2915109630280678890720206779706963455590627465886103135194L]), set([2946626711558792003980654088990112021985937607003425539581L])))\n",
      "('f{k}*G =', (set([1305994880430903997305943738697779408316929565234787837114L]), set([3981863977451150342116987835776121688410789618551673306674L])))\n",
      "('f{k}*G =', (set([410283251116784874018993562136566870110676706936762660240L]), set([1206654674899825246688205669651974202006189255452737318561L])))\n",
      "('f{k}*G =', (set([4008504146453526025173196900303594155799995627910231899946L]), set([3263759301305176906990806636587838100022690095020155627760L])))\n",
      "('f{k}*G =', (set([3473339081378406123852871299395262476289672479707038350589L]), set([2152713176906603604200842901176476029776544337891569565621L])))\n",
      "('f{k}*G =', (set([1167950611014894512313033362696697441497340081390841490910L]), set([4002177906111215127148483369584652296488769677804145538752L])))\n",
      "('f{k}*G =', (set([3176317450453705650283775811228493626776489433309636475023L]), set([44601893774669384766793803854980115179612118075017062201L])))\n"
     ]
    }
   ],
   "source": [
    "for k in range(0,10):\n",
    "    p=k*curve.g\n",
    "    print('f{k}*G =',({p.x},{p.y}))"
   ]
  },
  {
   "cell_type": "code",
   "execution_count": 18,
   "metadata": {},
   "outputs": [
    {
     "name": "stdout",
     "output_type": "stream",
     "text": [
      "('cofector=', 1)\n",
      "('cyclic group Order', 6277101735386680763835789423176059013767194773182842284081L)\n"
     ]
    }
   ],
   "source": [
    "print('cofector=',curve.field.h)\n",
    "print('cyclic group Order',curve.field.n)\n",
    "ng = curve.field.n*curve.g\n"
   ]
  },
  {
   "cell_type": "code",
   "execution_count": 22,
   "metadata": {},
   "outputs": [
    {
     "name": "stdout",
     "output_type": "stream",
     "text": [
      "(None, None)\n"
     ]
    }
   ],
   "source": [
    "print(ng.x,ng.y)"
   ]
  },
  {
   "cell_type": "code",
   "execution_count": 24,
   "metadata": {},
   "outputs": [
    {
     "ename": "ImportError",
     "evalue": "No module named secrets",
     "output_type": "error",
     "traceback": [
      "\u001b[1;31m\u001b[0m",
      "\u001b[1;31mImportError\u001b[0mTraceback (most recent call last)",
      "\u001b[1;32m<ipython-input-24-f51913523e30>\u001b[0m in \u001b[0;36m<module>\u001b[1;34m()\u001b[0m\n\u001b[1;32m----> 1\u001b[1;33m \u001b[1;32mimport\u001b[0m \u001b[0msecrets\u001b[0m\u001b[1;33m\u001b[0m\u001b[0m\n\u001b[0m\u001b[0;32m      2\u001b[0m \u001b[0mprivkey\u001b[0m\u001b[1;33m=\u001b[0m \u001b[0msecrets\u001b[0m\u001b[1;33m.\u001b[0m\u001b[0mrandbelow\u001b[0m\u001b[1;33m(\u001b[0m\u001b[0mcurve\u001b[0m\u001b[1;33m.\u001b[0m\u001b[0mfield\u001b[0m\u001b[1;33m.\u001b[0m\u001b[0mn\u001b[0m\u001b[1;33m)\u001b[0m\u001b[1;33m\u001b[0m\u001b[0m\n\u001b[0;32m      3\u001b[0m \u001b[1;32mprint\u001b[0m\u001b[1;33m(\u001b[0m\u001b[1;34m'private key : '\u001b[0m\u001b[1;33m,\u001b[0m\u001b[0mprivkey\u001b[0m\u001b[1;33m)\u001b[0m\u001b[1;33m\u001b[0m\u001b[0m\n",
      "\u001b[1;31mImportError\u001b[0m: No module named secrets"
     ]
    }
   ],
   "source": [
    "import secrets\n",
    "privkey= secrets.randbelow(curve.field.n)\n",
    "print('private key : ',privkey)"
   ]
  },
  {
   "cell_type": "code",
   "execution_count": null,
   "metadata": {},
   "outputs": [],
   "source": []
  }
 ],
 "metadata": {
  "kernelspec": {
   "display_name": "Python 2",
   "language": "python",
   "name": "python2"
  },
  "language_info": {
   "codemirror_mode": {
    "name": "ipython",
    "version": 2
   },
   "file_extension": ".py",
   "mimetype": "text/x-python",
   "name": "python",
   "nbconvert_exporter": "python",
   "pygments_lexer": "ipython2",
   "version": "2.7.16"
  }
 },
 "nbformat": 4,
 "nbformat_minor": 2
}
