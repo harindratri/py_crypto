{
 "cells": [
  {
   "cell_type": "code",
   "execution_count": 1,
   "metadata": {},
   "outputs": [],
   "source": [
    "from Crypto.Cipher import DES\n",
    "#import bisascii"
   ]
  },
  {
   "cell_type": "code",
   "execution_count": 3,
   "metadata": {},
   "outputs": [],
   "source": [
    "def append_space_padding(str,blocksize=64):\n",
    "    pad_len=blocksize-(len(str)%blocksize)\n",
    "    padding='a'*pad_len\n",
    "    return str+padding"
   ]
  },
  {
   "cell_type": "code",
   "execution_count": 4,
   "metadata": {},
   "outputs": [],
   "source": [
    "def remove_space_padding(str,blocksize=64):\n",
    "    pad_len=0\n",
    "    for char in str[::-1]:\n",
    "        if char =='a':\n",
    "            pad_len+=1\n",
    "        else:\n",
    "            break\n",
    "    str=str[:-pad_len]\n",
    "    return str"
   ]
  },
  {
   "cell_type": "code",
   "execution_count": 5,
   "metadata": {},
   "outputs": [],
   "source": [
    "def encrypt(plaintext,key):\n",
    "    des=DES.new(key,DES.MODE_ECB)\n",
    "    return des.encrypt(plaintext)"
   ]
  },
  {
   "cell_type": "code",
   "execution_count": 6,
   "metadata": {},
   "outputs": [],
   "source": [
    "def decrypt(ciphertext,key):\n",
    "    des=DES.new(key,DES.MODE_ECB)\n",
    "    return des.decrypt(ciphertext)"
   ]
  },
  {
   "cell_type": "code",
   "execution_count": 10,
   "metadata": {},
   "outputs": [
    {
     "name": "stdout",
     "output_type": "stream",
     "text": [
      "45\n"
     ]
    }
   ],
   "source": [
    "key='secretaa'\n",
    "plaintext='This is the secret message we want to ecrypt!'\n",
    "print(len(plaintext))"
   ]
  },
  {
   "cell_type": "code",
   "execution_count": 12,
   "metadata": {},
   "outputs": [
    {
     "name": "stdout",
     "output_type": "stream",
     "text": [
      "b'?\\xcf\\xca\\xf6\\x1c\\x83\\t&\\xfa\\xfcv\\xd7\\x82j\\xadv7\\xac\\xae\\x14\\xb4,\\x88\\x8e\\xd2\\xbb=\\xdf\\x90\\x07\\xa3fM\\xf7GR\\xa4G\\xb8\\xf5\\xb3Ig\\x19\\xc6\\x9c\\xdbqT\\xce\\x8a\\x04z\\xac\\xafQT\\xce\\x8a\\x04z\\xac\\xafQ'\n"
     ]
    }
   ],
   "source": [
    "plaintext=append_space_padding(plaintext)\n",
    "ciphertext=encrypt(plaintext,key)\n",
    "print(ciphertext)"
   ]
  },
  {
   "cell_type": "code",
   "execution_count": 14,
   "metadata": {},
   "outputs": [
    {
     "name": "stdout",
     "output_type": "stream",
     "text": [
      "b'This is the secret message we want to ecrypt!aaaaaaaaaaaaaaaaaaa'\n"
     ]
    }
   ],
   "source": [
    "decrypt=decrypt(ciphertext,key)\n",
    "print(decrypt)"
   ]
  },
  {
   "cell_type": "code",
   "execution_count": null,
   "metadata": {},
   "outputs": [],
   "source": []
  }
 ],
 "metadata": {
  "kernelspec": {
   "display_name": "Python 2",
   "language": "python",
   "name": "python2"
  },
  "language_info": {
   "codemirror_mode": {
    "name": "ipython",
    "version": 2
   },
   "file_extension": ".py",
   "mimetype": "text/x-python",
   "name": "python",
   "nbconvert_exporter": "python",
   "pygments_lexer": "ipython2",
   "version": "2.7.16"
  }
 },
 "nbformat": 4,
 "nbformat_minor": 2
}
